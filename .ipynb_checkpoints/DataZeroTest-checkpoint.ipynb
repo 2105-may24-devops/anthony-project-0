{
 "cells": [
  {
   "cell_type": "code",
   "execution_count": 75,
   "id": "a193b7c7-6b8d-4091-b79d-545021e3eb33",
   "metadata": {},
   "outputs": [],
   "source": [
    "import pandas as pd\n",
    "import requests\n",
    "from bs4 import BeautifulSoup\n",
    "from urllib.parse import urlparse\n",
    "import urllib.request\n",
    "\n",
    "def url_check(input_url):\n",
    "    \n",
    "        # Get input URL string. Urlparse chunks the address into Scheme, Netloc, Path, Params, Query, Fragment.\n",
    "    # Strip the url down, take the netloc and append 'robots.txt' to look for user-agent\n",
    "    # permissions.\n",
    "\n",
    "    url = str(input_url)\n",
    "    parsed_url = urlparse(url)\n",
    "    robots_url = f\"{parsed_url.scheme}://{parsed_url.netloc}/robots.txt\"\n",
    "    print(robots_url)\n",
    "    print(parsed_url.path)\n",
    "    \n",
    "    robots_file = urllib.request.urlopen(robots_url)\n",
    "    print(robots_file)\n",
    "    \n",
    "        # Search robots.txt for the path we want to scrape. If Disallowed, alert user that it would be\n",
    "    # risky to proceed. Currently (Red = Path Not Allowed, Green = Path Allowed)\n",
    "    \n",
    "    for line in robots_file:\n",
    "        decoded_file = line.decode(\"utf-8\")\n",
    "        print(decoded_file)\n",
    "        \n",
    "    permission_str = f\"Disallow:{parsed_url.path}\"      \n",
    "        \n",
    "    if permission_str in decoded_file:\n",
    "        print(\"Red\") \n",
    "    else:\n",
    "        print(\"Green\")"
   ]
  },
  {
   "cell_type": "code",
   "execution_count": 76,
   "id": "a6d0c9b7-7b9b-44bc-9827-9354954735d0",
   "metadata": {},
   "outputs": [
    {
     "name": "stdout",
     "output_type": "stream",
     "text": [
      "https://finance.yahoo.com/robots.txt\n",
      "/trending-tickers\n",
      "<http.client.HTTPResponse object at 0x000001A6A7B4F520>\n",
      "User-agent: *\n",
      "\n",
      "Sitemap: https://finance.yahoo.com/sitemap_en-us_desktop_index.xml\n",
      "\n",
      "Sitemap: https://finance.yahoo.com/sitemaps/finance-sitemap_index_US_en-US.xml.gz\n",
      "\n",
      "Sitemap: https://finance.yahoo.com/sitemaps/finance-sitemap_googlenewsindex_US_en-US.xml.gz\n",
      "\n",
      "Disallow: /r/\n",
      "\n",
      "Disallow: /__rapidworker-1.2.js\n",
      "\n",
      "Disallow: /__blank\n",
      "\n",
      "Disallow: /_td_api\n",
      "\n",
      "Disallow: /_remote\n",
      "\n",
      "User-agent:googlebot\n",
      "\n",
      "Disallow: /m/\n",
      "\n",
      "\n",
      "\n",
      "User-agent:googlebot-news\n",
      "\n",
      "Disallow: /m/\n",
      "\n",
      "Green\n"
     ]
    }
   ],
   "source": [
    "url_check(\"https://finance.yahoo.com/trending-tickers\")"
   ]
  },
  {
   "cell_type": "code",
   "execution_count": null,
   "id": "373929c9-7483-4279-aceb-209d4cc9e7c3",
   "metadata": {},
   "outputs": [],
   "source": []
  }
 ],
 "metadata": {
  "kernelspec": {
   "display_name": "Python 3",
   "language": "python",
   "name": "python3"
  },
  "language_info": {
   "codemirror_mode": {
    "name": "ipython",
    "version": 3
   },
   "file_extension": ".py",
   "mimetype": "text/x-python",
   "name": "python",
   "nbconvert_exporter": "python",
   "pygments_lexer": "ipython3",
   "version": "3.9.5"
  }
 },
 "nbformat": 4,
 "nbformat_minor": 5
}
