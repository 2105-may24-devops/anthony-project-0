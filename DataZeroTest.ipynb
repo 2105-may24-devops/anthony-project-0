{
 "cells": [
  {
   "cell_type": "code",
   "execution_count": 90,
   "id": "a193b7c7-6b8d-4091-b79d-545021e3eb33",
   "metadata": {},
   "outputs": [
    {
     "name": "stdin",
     "output_type": "stream",
     "text": [
      "Input a url:  https://finance.yahoo.com/trending-tickers\n"
     ]
    },
    {
     "name": "stdout",
     "output_type": "stream",
     "text": [
      "Green\n"
     ]
    }
   ],
   "source": [
    "import pandas as pd\n",
    "import requests\n",
    "from bs4 import BeautifulSoup\n",
    "from urllib.parse import urlparse\n",
    "import urllib.request\n",
    "\n",
    "\n",
    "def url_check(input_url):\n",
    "    \n",
    "    # Get input URL string. Urlparse chunks the address into Scheme, Netloc, Path, Params, Query, Fragment.\n",
    "    \n",
    "    url = str(input_url)\n",
    "\n",
    "    parsed_url = urlparse(url)\n",
    "    scheme = str(parsed_url.scheme)\n",
    "    netloc = str(parsed_url.netloc)\n",
    "    path = str(parsed_url.path)\n",
    "\n",
    "    # Ammend file with 'robots.txt'. This is a file--most websites have--that list User-Agent permissions\n",
    "    # for scraping the data on their page.\n",
    "\n",
    "    robots_url = str(f\"{scheme}://{netloc}/robots.txt\")\n",
    "\n",
    "    #print(robots_url)\n",
    "    #print(path)\n",
    "    #print(scheme)\n",
    "    #print(netloc)\n",
    "    \n",
    "    # Using urllib's request; get that robot.txt.\n",
    "\n",
    "    robots_file = urllib.request.urlopen(robots_url)\n",
    "    #print(robots_file)\n",
    "      \n",
    "    # Decode the requested file and store it.\n",
    "\n",
    "    for line in robots_file:\n",
    "        decoded_file = line.decode(\"utf-8\")\n",
    "        #print(decoded_file)\n",
    "\n",
    "    # Check for Permissions for the path we're going to scrape.  \n",
    "    # Currently (Red = Path Not Allowed, Green = Path Allowed)\n",
    "    # !! More stringent checks go here !!\n",
    "\n",
    "    permission_str = f\"Disallow: {path}\"      \n",
    "\n",
    "    # Give the user a level of Risk.    \n",
    "    if permission_str in decoded_file:\n",
    "        print(\"Red\") \n",
    "    else:\n",
    "        print(\"Green\")\n",
    "    \n",
    "   \n",
    "\n",
    "# Enter the program\n",
    "if __name__==\"__main__\":\n",
    "    \n",
    "    url_check(input_url=input(\"Input a url: \"))"
   ]
  },
  {
   "cell_type": "code",
   "execution_count": 97,
   "id": "373929c9-7483-4279-aceb-209d4cc9e7c3",
   "metadata": {},
   "outputs": [
    {
     "name": "stdout",
     "output_type": "stream",
     "text": [
      "Scraping successful!\n"
     ]
    },
    {
     "name": "stdin",
     "output_type": "stream",
     "text": [
      "Would you like to download this data? y/n  y\n"
     ]
    },
    {
     "name": "stdout",
     "output_type": "stream",
     "text": [
      "Save successful!\n"
     ]
    }
   ],
   "source": [
    "\n",
    "url = \"https://finance.yahoo.com/trending-tickers\"\n",
    "netloc = \"finance.yahoo.com\"\n",
    "netloc.replace('.', '-')\n",
    "page = requests.get(url)\n",
    "soup\n",
    "\n",
    "# Get the table.\n",
    "\n",
    "table = soup.find('table')\n",
    "\n",
    "headers = []\n",
    "\n",
    "for i in table.find_all('th'):\n",
    "    title = i.text.strip()\n",
    "    headers.append(title)\n",
    "\n",
    "df = pd.DataFrame(columns = headers)\n",
    "\n",
    "for row in table.find_all('tr')[1:]:\n",
    "    data = row.find_all('td')\n",
    "    row_data = [td.text.strip() for td in data]\n",
    "    length = len(df)\n",
    "    df.loc[length] = row_data\n",
    "\n",
    "print(\"Scraping successful!\")\n",
    "download = input(\"Would you like to download this data? y/n \")\n",
    "\n",
    "if download == 'y':\n",
    "    import time\n",
    "    timestr = time.strftime(\"%Y-%m-%d_%H-%M-%S\")\n",
    "    df.to_csv(f\"{netloc}_{timestr}\")\n",
    "    print('Save successful!')\n",
    "else:\n",
    "    \"Here's a snapshot, then.\"\n",
    "    print(df)\n",
    "\n"
   ]
  },
  {
   "cell_type": "code",
   "execution_count": null,
   "id": "1a6488e4-3c33-496a-b15d-3ea3b5db1140",
   "metadata": {},
   "outputs": [],
   "source": []
  },
  {
   "cell_type": "code",
   "execution_count": null,
   "id": "3d4e37ca-6c3f-4348-83f7-e3629a026689",
   "metadata": {},
   "outputs": [],
   "source": []
  }
 ],
 "metadata": {
  "kernelspec": {
   "display_name": "Python 3",
   "language": "python",
   "name": "python3"
  },
  "language_info": {
   "codemirror_mode": {
    "name": "ipython",
    "version": 3
   },
   "file_extension": ".py",
   "mimetype": "text/x-python",
   "name": "python",
   "nbconvert_exporter": "python",
   "pygments_lexer": "ipython3",
   "version": "3.9.5"
  }
 },
 "nbformat": 4,
 "nbformat_minor": 5
}
